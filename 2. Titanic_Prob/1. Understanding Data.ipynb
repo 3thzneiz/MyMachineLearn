{
 "cells": [
  {
   "cell_type": "code",
   "execution_count": 2,
   "metadata": {},
   "outputs": [],
   "source": [
    "import numpy as np\n",
    "import pandas as pd\n",
    "import matplotlib.pyplot as plt\n",
    "import seaborn as sns\n",
    "sns.set()"
   ]
  },
  {
   "cell_type": "code",
   "execution_count": 3,
   "metadata": {},
   "outputs": [],
   "source": [
    "df_train = pd.read_csv(\"./train.csv\")\n",
    "df_test = pd.read_csv(\"./test.csv\")"
   ]
  },
  {
   "cell_type": "code",
   "execution_count": 4,
   "metadata": {},
   "outputs": [
    {
     "data": {
      "text/html": [
       "<div>\n",
       "<style scoped>\n",
       "    .dataframe tbody tr th:only-of-type {\n",
       "        vertical-align: middle;\n",
       "    }\n",
       "\n",
       "    .dataframe tbody tr th {\n",
       "        vertical-align: top;\n",
       "    }\n",
       "\n",
       "    .dataframe thead th {\n",
       "        text-align: right;\n",
       "    }\n",
       "</style>\n",
       "<table border=\"1\" class=\"dataframe\">\n",
       "  <thead>\n",
       "    <tr style=\"text-align: right;\">\n",
       "      <th></th>\n",
       "      <th>PassengerId</th>\n",
       "      <th>Survived</th>\n",
       "      <th>Pclass</th>\n",
       "      <th>Name</th>\n",
       "      <th>Sex</th>\n",
       "      <th>Age</th>\n",
       "      <th>SibSp</th>\n",
       "      <th>Parch</th>\n",
       "      <th>Ticket</th>\n",
       "      <th>Fare</th>\n",
       "      <th>Cabin</th>\n",
       "      <th>Embarked</th>\n",
       "    </tr>\n",
       "  </thead>\n",
       "  <tbody>\n",
       "    <tr>\n",
       "      <th>0</th>\n",
       "      <td>1</td>\n",
       "      <td>0</td>\n",
       "      <td>3</td>\n",
       "      <td>Braund, Mr. Owen Harris</td>\n",
       "      <td>male</td>\n",
       "      <td>22.0</td>\n",
       "      <td>1</td>\n",
       "      <td>0</td>\n",
       "      <td>A/5 21171</td>\n",
       "      <td>7.2500</td>\n",
       "      <td>NaN</td>\n",
       "      <td>S</td>\n",
       "    </tr>\n",
       "    <tr>\n",
       "      <th>1</th>\n",
       "      <td>2</td>\n",
       "      <td>1</td>\n",
       "      <td>1</td>\n",
       "      <td>Cumings, Mrs. John Bradley (Florence Briggs Th...</td>\n",
       "      <td>female</td>\n",
       "      <td>38.0</td>\n",
       "      <td>1</td>\n",
       "      <td>0</td>\n",
       "      <td>PC 17599</td>\n",
       "      <td>71.2833</td>\n",
       "      <td>C85</td>\n",
       "      <td>C</td>\n",
       "    </tr>\n",
       "    <tr>\n",
       "      <th>2</th>\n",
       "      <td>3</td>\n",
       "      <td>1</td>\n",
       "      <td>3</td>\n",
       "      <td>Heikkinen, Miss. Laina</td>\n",
       "      <td>female</td>\n",
       "      <td>26.0</td>\n",
       "      <td>0</td>\n",
       "      <td>0</td>\n",
       "      <td>STON/O2. 3101282</td>\n",
       "      <td>7.9250</td>\n",
       "      <td>NaN</td>\n",
       "      <td>S</td>\n",
       "    </tr>\n",
       "    <tr>\n",
       "      <th>3</th>\n",
       "      <td>4</td>\n",
       "      <td>1</td>\n",
       "      <td>1</td>\n",
       "      <td>Futrelle, Mrs. Jacques Heath (Lily May Peel)</td>\n",
       "      <td>female</td>\n",
       "      <td>35.0</td>\n",
       "      <td>1</td>\n",
       "      <td>0</td>\n",
       "      <td>113803</td>\n",
       "      <td>53.1000</td>\n",
       "      <td>C123</td>\n",
       "      <td>S</td>\n",
       "    </tr>\n",
       "    <tr>\n",
       "      <th>4</th>\n",
       "      <td>5</td>\n",
       "      <td>0</td>\n",
       "      <td>3</td>\n",
       "      <td>Allen, Mr. William Henry</td>\n",
       "      <td>male</td>\n",
       "      <td>35.0</td>\n",
       "      <td>0</td>\n",
       "      <td>0</td>\n",
       "      <td>373450</td>\n",
       "      <td>8.0500</td>\n",
       "      <td>NaN</td>\n",
       "      <td>S</td>\n",
       "    </tr>\n",
       "  </tbody>\n",
       "</table>\n",
       "</div>"
      ],
      "text/plain": [
       "   PassengerId  Survived  Pclass  \\\n",
       "0            1         0       3   \n",
       "1            2         1       1   \n",
       "2            3         1       3   \n",
       "3            4         1       1   \n",
       "4            5         0       3   \n",
       "\n",
       "                                                Name     Sex   Age  SibSp  \\\n",
       "0                            Braund, Mr. Owen Harris    male  22.0      1   \n",
       "1  Cumings, Mrs. John Bradley (Florence Briggs Th...  female  38.0      1   \n",
       "2                             Heikkinen, Miss. Laina  female  26.0      0   \n",
       "3       Futrelle, Mrs. Jacques Heath (Lily May Peel)  female  35.0      1   \n",
       "4                           Allen, Mr. William Henry    male  35.0      0   \n",
       "\n",
       "   Parch            Ticket     Fare Cabin Embarked  \n",
       "0      0         A/5 21171   7.2500   NaN        S  \n",
       "1      0          PC 17599  71.2833   C85        C  \n",
       "2      0  STON/O2. 3101282   7.9250   NaN        S  \n",
       "3      0            113803  53.1000  C123        S  \n",
       "4      0            373450   8.0500   NaN        S  "
      ]
     },
     "execution_count": 4,
     "metadata": {},
     "output_type": "execute_result"
    }
   ],
   "source": [
    "df_train.head()"
   ]
  },
  {
   "cell_type": "code",
   "execution_count": 5,
   "metadata": {},
   "outputs": [
    {
     "data": {
      "text/html": [
       "<div>\n",
       "<style scoped>\n",
       "    .dataframe tbody tr th:only-of-type {\n",
       "        vertical-align: middle;\n",
       "    }\n",
       "\n",
       "    .dataframe tbody tr th {\n",
       "        vertical-align: top;\n",
       "    }\n",
       "\n",
       "    .dataframe thead th {\n",
       "        text-align: right;\n",
       "    }\n",
       "</style>\n",
       "<table border=\"1\" class=\"dataframe\">\n",
       "  <thead>\n",
       "    <tr style=\"text-align: right;\">\n",
       "      <th></th>\n",
       "      <th>PassengerId</th>\n",
       "      <th>Survived</th>\n",
       "      <th>Pclass</th>\n",
       "      <th>Age</th>\n",
       "      <th>SibSp</th>\n",
       "      <th>Parch</th>\n",
       "      <th>Fare</th>\n",
       "    </tr>\n",
       "  </thead>\n",
       "  <tbody>\n",
       "    <tr>\n",
       "      <th>count</th>\n",
       "      <td>891.000000</td>\n",
       "      <td>891.000000</td>\n",
       "      <td>891.000000</td>\n",
       "      <td>714.000000</td>\n",
       "      <td>891.000000</td>\n",
       "      <td>891.000000</td>\n",
       "      <td>891.000000</td>\n",
       "    </tr>\n",
       "    <tr>\n",
       "      <th>mean</th>\n",
       "      <td>446.000000</td>\n",
       "      <td>0.383838</td>\n",
       "      <td>2.308642</td>\n",
       "      <td>29.699118</td>\n",
       "      <td>0.523008</td>\n",
       "      <td>0.381594</td>\n",
       "      <td>32.204208</td>\n",
       "    </tr>\n",
       "    <tr>\n",
       "      <th>std</th>\n",
       "      <td>257.353842</td>\n",
       "      <td>0.486592</td>\n",
       "      <td>0.836071</td>\n",
       "      <td>14.526497</td>\n",
       "      <td>1.102743</td>\n",
       "      <td>0.806057</td>\n",
       "      <td>49.693429</td>\n",
       "    </tr>\n",
       "    <tr>\n",
       "      <th>min</th>\n",
       "      <td>1.000000</td>\n",
       "      <td>0.000000</td>\n",
       "      <td>1.000000</td>\n",
       "      <td>0.420000</td>\n",
       "      <td>0.000000</td>\n",
       "      <td>0.000000</td>\n",
       "      <td>0.000000</td>\n",
       "    </tr>\n",
       "    <tr>\n",
       "      <th>25%</th>\n",
       "      <td>223.500000</td>\n",
       "      <td>0.000000</td>\n",
       "      <td>2.000000</td>\n",
       "      <td>20.125000</td>\n",
       "      <td>0.000000</td>\n",
       "      <td>0.000000</td>\n",
       "      <td>7.910400</td>\n",
       "    </tr>\n",
       "    <tr>\n",
       "      <th>50%</th>\n",
       "      <td>446.000000</td>\n",
       "      <td>0.000000</td>\n",
       "      <td>3.000000</td>\n",
       "      <td>28.000000</td>\n",
       "      <td>0.000000</td>\n",
       "      <td>0.000000</td>\n",
       "      <td>14.454200</td>\n",
       "    </tr>\n",
       "    <tr>\n",
       "      <th>75%</th>\n",
       "      <td>668.500000</td>\n",
       "      <td>1.000000</td>\n",
       "      <td>3.000000</td>\n",
       "      <td>38.000000</td>\n",
       "      <td>1.000000</td>\n",
       "      <td>0.000000</td>\n",
       "      <td>31.000000</td>\n",
       "    </tr>\n",
       "    <tr>\n",
       "      <th>max</th>\n",
       "      <td>891.000000</td>\n",
       "      <td>1.000000</td>\n",
       "      <td>3.000000</td>\n",
       "      <td>80.000000</td>\n",
       "      <td>8.000000</td>\n",
       "      <td>6.000000</td>\n",
       "      <td>512.329200</td>\n",
       "    </tr>\n",
       "  </tbody>\n",
       "</table>\n",
       "</div>"
      ],
      "text/plain": [
       "       PassengerId    Survived      Pclass         Age       SibSp  \\\n",
       "count   891.000000  891.000000  891.000000  714.000000  891.000000   \n",
       "mean    446.000000    0.383838    2.308642   29.699118    0.523008   \n",
       "std     257.353842    0.486592    0.836071   14.526497    1.102743   \n",
       "min       1.000000    0.000000    1.000000    0.420000    0.000000   \n",
       "25%     223.500000    0.000000    2.000000   20.125000    0.000000   \n",
       "50%     446.000000    0.000000    3.000000   28.000000    0.000000   \n",
       "75%     668.500000    1.000000    3.000000   38.000000    1.000000   \n",
       "max     891.000000    1.000000    3.000000   80.000000    8.000000   \n",
       "\n",
       "            Parch        Fare  \n",
       "count  891.000000  891.000000  \n",
       "mean     0.381594   32.204208  \n",
       "std      0.806057   49.693429  \n",
       "min      0.000000    0.000000  \n",
       "25%      0.000000    7.910400  \n",
       "50%      0.000000   14.454200  \n",
       "75%      0.000000   31.000000  \n",
       "max      6.000000  512.329200  "
      ]
     },
     "execution_count": 5,
     "metadata": {},
     "output_type": "execute_result"
    }
   ],
   "source": [
    "df_train.describe()"
   ]
  },
  {
   "cell_type": "code",
   "execution_count": 6,
   "metadata": {},
   "outputs": [
    {
     "data": {
      "text/plain": [
       "Survived  Sex   \n",
       "0         female     81\n",
       "          male      468\n",
       "1         female    233\n",
       "          male      109\n",
       "Name: Survived, dtype: int64"
      ]
     },
     "execution_count": 6,
     "metadata": {},
     "output_type": "execute_result"
    }
   ],
   "source": [
    "df_train.groupby(['Survived','Sex'])['Survived'].count()"
   ]
  },
  {
   "cell_type": "code",
   "execution_count": 7,
   "metadata": {},
   "outputs": [
    {
     "data": {
      "image/png": "[encoded data removed]",
      "text/plain": [
       "<Figure size 720x360 with 2 Axes>"
      ]
     },
     "metadata": {},
     "output_type": "display_data"
    }
   ],
   "source": [
    "sns.catplot(x='Sex', col='Survived', kind='count', data=df_train);"
   ]
  },
  {
   "cell_type": "code",
   "execution_count": 14,
   "metadata": {},
   "outputs": [
    {
     "data": {
      "text/plain": [
       "0.18890814558058924"
      ]
     },
     "execution_count": 14,
     "metadata": {},
     "output_type": "execute_result"
    }
   ],
   "source": [
    "df_train[df_train.Sex == 'male'].Survived.sum()/df_train[df_train.Sex == 'male'].Survived.count()"
   ]
  },
  {
   "cell_type": "code",
   "execution_count": 15,
   "metadata": {},
   "outputs": [
    {
     "data": {
      "text/plain": [
       "0.7420382165605095"
      ]
     },
     "execution_count": 15,
     "metadata": {},
     "output_type": "execute_result"
    }
   ],
   "source": [
    "df_train[df_train.Sex == 'female'].Survived.sum()/df_train[df_train.Sex == 'female'].Survived.count()"
   ]
  },
  {
   "cell_type": "code",
   "execution_count": 16,
   "metadata": {},
   "outputs": [
    {
     "data": {
      "image/png": "[encoded data removed]",
      "text/plain": [
       "<Figure size 1152x504 with 2 Axes>"
      ]
     },
     "metadata": {},
     "output_type": "display_data"
    }
   ],
   "source": [
    "f,ax=plt.subplots(1,2,figsize=(16,7))\n",
    "df_train['Survived'][df_train['Sex']=='male'].value_counts().plot.pie(explode=[0,0.2],autopct='%1.1f%%',ax=ax[0],shadow=True)\n",
    "df_train['Survived'][df_train['Sex']=='female'].value_counts().plot.pie(explode=[0,0.2],autopct='%1.1f%%',ax=ax[1],shadow=True)\n",
    "ax[0].set_title('Survived (male)')\n",
    "ax[1].set_title('Survived (female)')\n",
    "\n",
    "plt.show()"
   ]
  },
  {
   "cell_type": "code",
   "execution_count": 17,
   "metadata": {},
   "outputs": [
    {
     "data": {
      "text/html": [
       "<style  type=\"text/css\" >\n",
       "    #T_380a0342_32a1_11e9_be12_acbc32c3e96frow0_col0 {\n",
       "            background-color:  #ffff00;\n",
       "        }    #T_380a0342_32a1_11e9_be12_acbc32c3e96frow0_col1 {\n",
       "            background-color:  #ffce00;\n",
       "        }    #T_380a0342_32a1_11e9_be12_acbc32c3e96frow0_col2 {\n",
       "            background-color:  #fff400;\n",
       "        }    #T_380a0342_32a1_11e9_be12_acbc32c3e96frow1_col0 {\n",
       "            background-color:  #fff600;\n",
       "        }    #T_380a0342_32a1_11e9_be12_acbc32c3e96frow1_col1 {\n",
       "            background-color:  #ffff00;\n",
       "        }    #T_380a0342_32a1_11e9_be12_acbc32c3e96frow1_col2 {\n",
       "            background-color:  #ffff00;\n",
       "        }    #T_380a0342_32a1_11e9_be12_acbc32c3e96frow2_col0 {\n",
       "            background-color:  #ff6000;\n",
       "        }    #T_380a0342_32a1_11e9_be12_acbc32c3e96frow2_col1 {\n",
       "            background-color:  #ffdf00;\n",
       "        }    #T_380a0342_32a1_11e9_be12_acbc32c3e96frow2_col2 {\n",
       "            background-color:  #ff9000;\n",
       "        }    #T_380a0342_32a1_11e9_be12_acbc32c3e96frow3_col0 {\n",
       "            background-color:  #ff0000;\n",
       "        }    #T_380a0342_32a1_11e9_be12_acbc32c3e96frow3_col1 {\n",
       "            background-color:  #ff0000;\n",
       "        }    #T_380a0342_32a1_11e9_be12_acbc32c3e96frow3_col2 {\n",
       "            background-color:  #ff0000;\n",
       "        }</style>  \n",
       "<table id=\"T_380a0342_32a1_11e9_be12_acbc32c3e96f\" > \n",
       "<thead>    <tr> \n",
       "        <th class=\"index_name level0\" >Survived</th> \n",
       "        <th class=\"col_heading level0 col0\" >0</th> \n",
       "        <th class=\"col_heading level0 col1\" >1</th> \n",
       "        <th class=\"col_heading level0 col2\" >All</th> \n",
       "    </tr>    <tr> \n",
       "        <th class=\"index_name level0\" >Pclass</th> \n",
       "        <th class=\"blank\" ></th> \n",
       "        <th class=\"blank\" ></th> \n",
       "        <th class=\"blank\" ></th> \n",
       "    </tr></thead> \n",
       "<tbody>    <tr> \n",
       "        <th id=\"T_380a0342_32a1_11e9_be12_acbc32c3e96flevel0_row0\" class=\"row_heading level0 row0\" >1</th> \n",
       "        <td id=\"T_380a0342_32a1_11e9_be12_acbc32c3e96frow0_col0\" class=\"data row0 col0\" >80</td> \n",
       "        <td id=\"T_380a0342_32a1_11e9_be12_acbc32c3e96frow0_col1\" class=\"data row0 col1\" >136</td> \n",
       "        <td id=\"T_380a0342_32a1_11e9_be12_acbc32c3e96frow0_col2\" class=\"data row0 col2\" >216</td> \n",
       "    </tr>    <tr> \n",
       "        <th id=\"T_380a0342_32a1_11e9_be12_acbc32c3e96flevel0_row1\" class=\"row_heading level0 row1\" >2</th> \n",
       "        <td id=\"T_380a0342_32a1_11e9_be12_acbc32c3e96frow1_col0\" class=\"data row1 col0\" >97</td> \n",
       "        <td id=\"T_380a0342_32a1_11e9_be12_acbc32c3e96frow1_col1\" class=\"data row1 col1\" >87</td> \n",
       "        <td id=\"T_380a0342_32a1_11e9_be12_acbc32c3e96frow1_col2\" class=\"data row1 col2\" >184</td> \n",
       "    </tr>    <tr> \n",
       "        <th id=\"T_380a0342_32a1_11e9_be12_acbc32c3e96flevel0_row2\" class=\"row_heading level0 row2\" >3</th> \n",
       "        <td id=\"T_380a0342_32a1_11e9_be12_acbc32c3e96frow2_col0\" class=\"data row2 col0\" >372</td> \n",
       "        <td id=\"T_380a0342_32a1_11e9_be12_acbc32c3e96frow2_col1\" class=\"data row2 col1\" >119</td> \n",
       "        <td id=\"T_380a0342_32a1_11e9_be12_acbc32c3e96frow2_col2\" class=\"data row2 col2\" >491</td> \n",
       "    </tr>    <tr> \n",
       "        <th id=\"T_380a0342_32a1_11e9_be12_acbc32c3e96flevel0_row3\" class=\"row_heading level0 row3\" >All</th> \n",
       "        <td id=\"T_380a0342_32a1_11e9_be12_acbc32c3e96frow3_col0\" class=\"data row3 col0\" >549</td> \n",
       "        <td id=\"T_380a0342_32a1_11e9_be12_acbc32c3e96frow3_col1\" class=\"data row3 col1\" >342</td> \n",
       "        <td id=\"T_380a0342_32a1_11e9_be12_acbc32c3e96frow3_col2\" class=\"data row3 col2\" >891</td> \n",
       "    </tr></tbody> \n",
       "</table> "
      ],
      "text/plain": [
       "<pandas.io.formats.style.Styler at 0x110c31828>"
      ]
     },
     "execution_count": 17,
     "metadata": {},
     "output_type": "execute_result"
    }
   ],
   "source": [
    "pd.crosstab(df_train.Pclass, df_train.Survived, margins=True).style.background_gradient(cmap='autumn_r')"
   ]
  },
  {
   "cell_type": "code",
   "execution_count": 18,
   "metadata": {},
   "outputs": [
    {
     "name": "stdout",
     "output_type": "stream",
     "text": [
      "% of survivals in\n",
      "Pclass=1 :  0.62962962963\n",
      "Pclass=2 :  0.472826086957\n",
      "Pclass=3 :  0.242362525458\n"
     ]
    }
   ],
   "source": [
    "print(\"% of survivals in\") \n",
    "print(\"Pclass=1 : \", df_train.Survived[df_train.Pclass == 1].sum()/df_train[df_train.Pclass == 1].Survived.count())\n",
    "print(\"Pclass=2 : \", df_train.Survived[df_train.Pclass == 2].sum()/df_train[df_train.Pclass == 2].Survived.count())\n",
    "print(\"Pclass=3 : \", df_train.Survived[df_train.Pclass == 3].sum()/df_train[df_train.Pclass == 3].Survived.count())"
   ]
  },
  {
   "cell_type": "code",
   "execution_count": 19,
   "metadata": {},
   "outputs": [
    {
     "data": {
      "image/png": "[encoded data removed]",
      "text/plain": [
       "<Figure size 360x360 with 1 Axes>"
      ]
     },
     "metadata": {},
     "output_type": "display_data"
    }
   ],
   "source": [
    "sns.catplot('Pclass','Survived', kind='point', data=df_train);"
   ]
  },
  {
   "cell_type": "code",
   "execution_count": 20,
   "metadata": {},
   "outputs": [
    {
     "data": {
      "text/html": [
       "<style  type=\"text/css\" >\n",
       "    #T_70c9113a_32a1_11e9_b4a0_acbc32c3e96frow0_col0 {\n",
       "            background-color:  #ffff00;\n",
       "        }    #T_70c9113a_32a1_11e9_b4a0_acbc32c3e96frow0_col1 {\n",
       "            background-color:  #ffff00;\n",
       "        }    #T_70c9113a_32a1_11e9_b4a0_acbc32c3e96frow0_col2 {\n",
       "            background-color:  #fff100;\n",
       "        }    #T_70c9113a_32a1_11e9_b4a0_acbc32c3e96frow0_col3 {\n",
       "            background-color:  #ffff00;\n",
       "        }    #T_70c9113a_32a1_11e9_b4a0_acbc32c3e96frow1_col0 {\n",
       "            background-color:  #ff9600;\n",
       "        }    #T_70c9113a_32a1_11e9_b4a0_acbc32c3e96frow1_col1 {\n",
       "            background-color:  #ffa300;\n",
       "        }    #T_70c9113a_32a1_11e9_b4a0_acbc32c3e96frow1_col2 {\n",
       "            background-color:  #fff100;\n",
       "        }    #T_70c9113a_32a1_11e9_b4a0_acbc32c3e96frow1_col3 {\n",
       "            background-color:  #ffcf00;\n",
       "        }    #T_70c9113a_32a1_11e9_b4a0_acbc32c3e96frow2_col0 {\n",
       "            background-color:  #ffa700;\n",
       "        }    #T_70c9113a_32a1_11e9_b4a0_acbc32c3e96frow2_col1 {\n",
       "            background-color:  #ff8500;\n",
       "        }    #T_70c9113a_32a1_11e9_b4a0_acbc32c3e96frow2_col2 {\n",
       "            background-color:  #ff6e00;\n",
       "        }    #T_70c9113a_32a1_11e9_b4a0_acbc32c3e96frow2_col3 {\n",
       "            background-color:  #ff8500;\n",
       "        }    #T_70c9113a_32a1_11e9_b4a0_acbc32c3e96frow3_col0 {\n",
       "            background-color:  #ffcd00;\n",
       "        }    #T_70c9113a_32a1_11e9_b4a0_acbc32c3e96frow3_col1 {\n",
       "            background-color:  #fff000;\n",
       "        }    #T_70c9113a_32a1_11e9_b4a0_acbc32c3e96frow3_col2 {\n",
       "            background-color:  #ffff00;\n",
       "        }    #T_70c9113a_32a1_11e9_b4a0_acbc32c3e96frow3_col3 {\n",
       "            background-color:  #fff700;\n",
       "        }    #T_70c9113a_32a1_11e9_b4a0_acbc32c3e96frow4_col0 {\n",
       "            background-color:  #ff0000;\n",
       "        }    #T_70c9113a_32a1_11e9_b4a0_acbc32c3e96frow4_col1 {\n",
       "            background-color:  #ff0000;\n",
       "        }    #T_70c9113a_32a1_11e9_b4a0_acbc32c3e96frow4_col2 {\n",
       "            background-color:  #ff0000;\n",
       "        }    #T_70c9113a_32a1_11e9_b4a0_acbc32c3e96frow4_col3 {\n",
       "            background-color:  #ff0000;\n",
       "        }</style>  \n",
       "<table id=\"T_70c9113a_32a1_11e9_b4a0_acbc32c3e96f\" > \n",
       "<thead>    <tr> \n",
       "        <th class=\"blank\" ></th> \n",
       "        <th class=\"index_name level0\" >Pclass</th> \n",
       "        <th class=\"col_heading level0 col0\" >1</th> \n",
       "        <th class=\"col_heading level0 col1\" >2</th> \n",
       "        <th class=\"col_heading level0 col2\" >3</th> \n",
       "        <th class=\"col_heading level0 col3\" >All</th> \n",
       "    </tr>    <tr> \n",
       "        <th class=\"index_name level0\" >Sex</th> \n",
       "        <th class=\"index_name level1\" >Survived</th> \n",
       "        <th class=\"blank\" ></th> \n",
       "        <th class=\"blank\" ></th> \n",
       "        <th class=\"blank\" ></th> \n",
       "        <th class=\"blank\" ></th> \n",
       "    </tr></thead> \n",
       "<tbody>    <tr> \n",
       "        <th id=\"T_70c9113a_32a1_11e9_b4a0_acbc32c3e96flevel0_row0\" class=\"row_heading level0 row0\" rowspan=2>female</th> \n",
       "        <th id=\"T_70c9113a_32a1_11e9_b4a0_acbc32c3e96flevel1_row0\" class=\"row_heading level1 row0\" >0</th> \n",
       "        <td id=\"T_70c9113a_32a1_11e9_b4a0_acbc32c3e96frow0_col0\" class=\"data row0 col0\" >3</td> \n",
       "        <td id=\"T_70c9113a_32a1_11e9_b4a0_acbc32c3e96frow0_col1\" class=\"data row0 col1\" >6</td> \n",
       "        <td id=\"T_70c9113a_32a1_11e9_b4a0_acbc32c3e96frow0_col2\" class=\"data row0 col2\" >72</td> \n",
       "        <td id=\"T_70c9113a_32a1_11e9_b4a0_acbc32c3e96frow0_col3\" class=\"data row0 col3\" >81</td> \n",
       "    </tr>    <tr> \n",
       "        <th id=\"T_70c9113a_32a1_11e9_b4a0_acbc32c3e96flevel1_row1\" class=\"row_heading level1 row1\" >1</th> \n",
       "        <td id=\"T_70c9113a_32a1_11e9_b4a0_acbc32c3e96frow1_col0\" class=\"data row1 col0\" >91</td> \n",
       "        <td id=\"T_70c9113a_32a1_11e9_b4a0_acbc32c3e96frow1_col1\" class=\"data row1 col1\" >70</td> \n",
       "        <td id=\"T_70c9113a_32a1_11e9_b4a0_acbc32c3e96frow1_col2\" class=\"data row1 col2\" >72</td> \n",
       "        <td id=\"T_70c9113a_32a1_11e9_b4a0_acbc32c3e96frow1_col3\" class=\"data row1 col3\" >233</td> \n",
       "    </tr>    <tr> \n",
       "        <th id=\"T_70c9113a_32a1_11e9_b4a0_acbc32c3e96flevel0_row2\" class=\"row_heading level0 row2\" rowspan=2>male</th> \n",
       "        <th id=\"T_70c9113a_32a1_11e9_b4a0_acbc32c3e96flevel1_row2\" class=\"row_heading level1 row2\" >0</th> \n",
       "        <td id=\"T_70c9113a_32a1_11e9_b4a0_acbc32c3e96frow2_col0\" class=\"data row2 col0\" >77</td> \n",
       "        <td id=\"T_70c9113a_32a1_11e9_b4a0_acbc32c3e96frow2_col1\" class=\"data row2 col1\" >91</td> \n",
       "        <td id=\"T_70c9113a_32a1_11e9_b4a0_acbc32c3e96frow2_col2\" class=\"data row2 col2\" >300</td> \n",
       "        <td id=\"T_70c9113a_32a1_11e9_b4a0_acbc32c3e96frow2_col3\" class=\"data row2 col3\" >468</td> \n",
       "    </tr>    <tr> \n",
       "        <th id=\"T_70c9113a_32a1_11e9_b4a0_acbc32c3e96flevel1_row3\" class=\"row_heading level1 row3\" >1</th> \n",
       "        <td id=\"T_70c9113a_32a1_11e9_b4a0_acbc32c3e96frow3_col0\" class=\"data row3 col0\" >45</td> \n",
       "        <td id=\"T_70c9113a_32a1_11e9_b4a0_acbc32c3e96frow3_col1\" class=\"data row3 col1\" >17</td> \n",
       "        <td id=\"T_70c9113a_32a1_11e9_b4a0_acbc32c3e96frow3_col2\" class=\"data row3 col2\" >47</td> \n",
       "        <td id=\"T_70c9113a_32a1_11e9_b4a0_acbc32c3e96frow3_col3\" class=\"data row3 col3\" >109</td> \n",
       "    </tr>    <tr> \n",
       "        <th id=\"T_70c9113a_32a1_11e9_b4a0_acbc32c3e96flevel0_row4\" class=\"row_heading level0 row4\" >All</th> \n",
       "        <th id=\"T_70c9113a_32a1_11e9_b4a0_acbc32c3e96flevel1_row4\" class=\"row_heading level1 row4\" ></th> \n",
       "        <td id=\"T_70c9113a_32a1_11e9_b4a0_acbc32c3e96frow4_col0\" class=\"data row4 col0\" >216</td> \n",
       "        <td id=\"T_70c9113a_32a1_11e9_b4a0_acbc32c3e96frow4_col1\" class=\"data row4 col1\" >184</td> \n",
       "        <td id=\"T_70c9113a_32a1_11e9_b4a0_acbc32c3e96frow4_col2\" class=\"data row4 col2\" >491</td> \n",
       "        <td id=\"T_70c9113a_32a1_11e9_b4a0_acbc32c3e96frow4_col3\" class=\"data row4 col3\" >891</td> \n",
       "    </tr></tbody> \n",
       "</table> "
      ],
      "text/plain": [
       "<pandas.io.formats.style.Styler at 0x10afb0160>"
      ]
     },
     "execution_count": 20,
     "metadata": {},
     "output_type": "execute_result"
    }
   ],
   "source": [
    "pd.crosstab([df_train.Sex, df_train.Survived], df_train.Pclass, margins=True).style.background_gradient(cmap='autumn_r')"
   ]
  },
  {
   "cell_type": "code",
   "execution_count": 21,
   "metadata": {},
   "outputs": [
    {
     "data": {
      "image/png": "[encoded data removed]",
      "text/plain": [
       "<Figure size 432.85x360 with 1 Axes>"
      ]
     },
     "metadata": {},
     "output_type": "display_data"
    }
   ],
   "source": [
    "sns.catplot('Pclass','Survived',hue='Sex', kind='point', data=df_train);"
   ]
  },
  {
   "cell_type": "code",
   "execution_count": null,
   "metadata": {},
   "outputs": [],
   "source": []
  }
 ],
 "metadata": {
  "kernelspec": {
   "display_name": "Python 3",
   "language": "python",
   "name": "python3"
  },
  "language_info": {
   "codemirror_mode": {
    "name": "ipython",
    "version": 3
   },
   "file_extension": ".py",
   "mimetype": "text/x-python",
   "name": "python",
   "nbconvert_exporter": "python",
   "pygments_lexer": "ipython3",
   "version": "3.6.5"
  }
 },
 "nbformat": 4,
 "nbformat_minor": 2
}
